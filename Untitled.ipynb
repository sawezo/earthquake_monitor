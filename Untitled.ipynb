{
 "cells": [
  {
   "cell_type": "code",
   "execution_count": 1,
   "id": "5b6b7e56",
   "metadata": {
    "ExecuteTime": {
     "end_time": "2021-10-17T14:56:10.284500Z",
     "start_time": "2021-10-17T14:56:10.268977Z"
    }
   },
   "outputs": [],
   "source": [
    "%load_ext autoreload\n",
    "%autoreload 2"
   ]
  },
  {
   "cell_type": "code",
   "execution_count": 2,
   "id": "18abc925",
   "metadata": {
    "ExecuteTime": {
     "end_time": "2021-10-17T14:56:10.724718Z",
     "start_time": "2021-10-17T14:56:10.714796Z"
    }
   },
   "outputs": [],
   "source": [
    "import sys\n",
    "sys.path.append(\"./backend/src/\")"
   ]
  },
  {
   "cell_type": "code",
   "execution_count": 21,
   "id": "4d96d54c",
   "metadata": {
    "ExecuteTime": {
     "end_time": "2021-10-17T14:57:36.852274Z",
     "start_time": "2021-10-17T14:57:36.827165Z"
    }
   },
   "outputs": [],
   "source": [
    "from pull import Puller"
   ]
  },
  {
   "cell_type": "code",
   "execution_count": 22,
   "id": "0b17adba",
   "metadata": {
    "ExecuteTime": {
     "end_time": "2021-10-17T14:57:37.023800Z",
     "start_time": "2021-10-17T14:57:37.009108Z"
    }
   },
   "outputs": [],
   "source": [
    "puller = Puller()"
   ]
  },
  {
   "cell_type": "code",
   "execution_count": 24,
   "id": "2fa81e1f",
   "metadata": {
    "ExecuteTime": {
     "end_time": "2021-10-17T15:00:38.438012Z",
     "start_time": "2021-10-17T15:00:38.407065Z"
    }
   },
   "outputs": [],
   "source": [
    "data = puller.get(\"https://earthquake.usgs.gov/earthquakes/feed/v1.0/summary/all_hour.geojson\")"
   ]
  },
  {
   "cell_type": "code",
   "execution_count": 45,
   "id": "ac91c738",
   "metadata": {
    "ExecuteTime": {
     "end_time": "2021-10-17T15:05:45.487624Z",
     "start_time": "2021-10-17T15:05:45.466303Z"
    }
   },
   "outputs": [],
   "source": [
    "import json\n",
    "with open(\"./dev/datagen/test.json\", \"w\") as outfile:\n",
    "    json.dump(data, outfile)"
   ]
  },
  {
   "cell_type": "code",
   "execution_count": 26,
   "id": "b3a5dafc",
   "metadata": {
    "ExecuteTime": {
     "end_time": "2021-10-17T15:01:19.672886Z",
     "start_time": "2021-10-17T15:01:19.660501Z"
    }
   },
   "outputs": [],
   "source": [
    "sys.path.append(\"./dev/frontend/app/\")"
   ]
  },
  {
   "cell_type": "code",
   "execution_count": 28,
   "id": "08ca775d",
   "metadata": {
    "ExecuteTime": {
     "end_time": "2021-10-17T15:02:12.595793Z",
     "start_time": "2021-10-17T15:02:12.572304Z"
    }
   },
   "outputs": [],
   "source": [
    "from utils import frame_data"
   ]
  },
  {
   "cell_type": "code",
   "execution_count": 43,
   "id": "f00ede54",
   "metadata": {
    "ExecuteTime": {
     "end_time": "2021-10-17T15:04:30.255697Z",
     "start_time": "2021-10-17T15:04:30.230472Z"
    }
   },
   "outputs": [],
   "source": [
    "df = frame_data(data[\"features\"])"
   ]
  }
 ],
 "metadata": {
  "kernelspec": {
   "display_name": "Python [conda env:GIS]",
   "language": "python",
   "name": "conda-env-GIS-py"
  },
  "language_info": {
   "codemirror_mode": {
    "name": "ipython",
    "version": 3
   },
   "file_extension": ".py",
   "mimetype": "text/x-python",
   "name": "python",
   "nbconvert_exporter": "python",
   "pygments_lexer": "ipython3",
   "version": "3.7.6"
  },
  "latex_envs": {
   "LaTeX_envs_menu_present": true,
   "autoclose": false,
   "autocomplete": true,
   "bibliofile": "biblio.bib",
   "cite_by": "apalike",
   "current_citInitial": 1,
   "eqLabelWithNumbers": true,
   "eqNumInitial": 1,
   "hotkeys": {
    "equation": "Ctrl-E",
    "itemize": "Ctrl-I"
   },
   "labels_anchors": false,
   "latex_user_defs": false,
   "report_style_numbering": false,
   "user_envs_cfg": false
  },
  "toc": {
   "base_numbering": 1,
   "nav_menu": {},
   "number_sections": true,
   "sideBar": true,
   "skip_h1_title": false,
   "title_cell": "Table of Contents",
   "title_sidebar": "Contents",
   "toc_cell": false,
   "toc_position": {},
   "toc_section_display": true,
   "toc_window_display": false
  }
 },
 "nbformat": 4,
 "nbformat_minor": 5
}
