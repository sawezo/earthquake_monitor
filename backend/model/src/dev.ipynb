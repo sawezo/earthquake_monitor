{
 "cells": [
  {
   "cell_type": "markdown",
   "id": "88fa9c20",
   "metadata": {},
   "source": [
    "## Setup"
   ]
  },
  {
   "cell_type": "markdown",
   "id": "4812e34f",
   "metadata": {},
   "source": [
    "- validate/test differently?"
   ]
  },
  {
   "cell_type": "code",
   "execution_count": 1,
   "id": "bacb2b6f",
   "metadata": {
    "ExecuteTime": {
     "end_time": "2021-09-26T05:06:53.509258Z",
     "start_time": "2021-09-26T05:06:52.944872Z"
    }
   },
   "outputs": [],
   "source": [
    "import numpy as np\n",
    "import pandas as pd"
   ]
  },
  {
   "cell_type": "code",
   "execution_count": 2,
   "id": "bdf0d60a",
   "metadata": {
    "ExecuteTime": {
     "end_time": "2021-09-26T05:06:55.819549Z",
     "start_time": "2021-09-26T05:06:53.510338Z"
    }
   },
   "outputs": [
    {
     "name": "stderr",
     "output_type": "stream",
     "text": [
      "2021-09-26 01:06:53.853071: I tensorflow/stream_executor/platform/default/dso_loader.cc:49] Successfully opened dynamic library libcudart.so.10.1\n",
      "2021-09-26 01:06:55.501604: I tensorflow/compiler/jit/xla_cpu_device.cc:41] Not creating XLA devices, tf_xla_enable_xla_devices not set\n",
      "2021-09-26 01:06:55.502206: I tensorflow/stream_executor/platform/default/dso_loader.cc:49] Successfully opened dynamic library libcuda.so.1\n",
      "2021-09-26 01:06:55.616013: I tensorflow/core/common_runtime/gpu/gpu_device.cc:1720] Found device 0 with properties: \n",
      "pciBusID: 0000:08:00.0 name: NVIDIA GeForce RTX 2080 SUPER computeCapability: 7.5\n",
      "coreClock: 1.815GHz coreCount: 48 deviceMemorySize: 7.79GiB deviceMemoryBandwidth: 462.00GiB/s\n",
      "2021-09-26 01:06:55.616991: I tensorflow/core/common_runtime/gpu/gpu_device.cc:1720] Found device 1 with properties: \n",
      "pciBusID: 0000:41:00.0 name: NVIDIA GeForce RTX 2080 SUPER computeCapability: 7.5\n",
      "coreClock: 1.815GHz coreCount: 48 deviceMemorySize: 7.79GiB deviceMemoryBandwidth: 462.00GiB/s\n",
      "2021-09-26 01:06:55.617033: I tensorflow/stream_executor/platform/default/dso_loader.cc:49] Successfully opened dynamic library libcudart.so.10.1\n",
      "2021-09-26 01:06:55.658932: I tensorflow/stream_executor/platform/default/dso_loader.cc:49] Successfully opened dynamic library libcublas.so.10\n",
      "2021-09-26 01:06:55.659070: I tensorflow/stream_executor/platform/default/dso_loader.cc:49] Successfully opened dynamic library libcublasLt.so.10\n",
      "2021-09-26 01:06:55.682314: I tensorflow/stream_executor/platform/default/dso_loader.cc:49] Successfully opened dynamic library libcufft.so.10\n",
      "2021-09-26 01:06:55.688267: I tensorflow/stream_executor/platform/default/dso_loader.cc:49] Successfully opened dynamic library libcurand.so.10\n",
      "2021-09-26 01:06:55.731414: I tensorflow/stream_executor/platform/default/dso_loader.cc:49] Successfully opened dynamic library libcusolver.so.10\n",
      "2021-09-26 01:06:55.737760: I tensorflow/stream_executor/platform/default/dso_loader.cc:49] Successfully opened dynamic library libcusparse.so.10\n",
      "2021-09-26 01:06:55.813904: I tensorflow/stream_executor/platform/default/dso_loader.cc:49] Successfully opened dynamic library libcudnn.so.7\n",
      "2021-09-26 01:06:55.817051: I tensorflow/core/common_runtime/gpu/gpu_device.cc:1862] Adding visible gpu devices: 0, 1\n"
     ]
    }
   ],
   "source": [
    "# If memory growth is enabled for a PhysicalDevice,\n",
    "# the runtime initialization will not allocate all memory on the device. \n",
    "# Memory growth cannot be configured on a PhysicalDevice with virtual devices configured.\n",
    "import tensorflow as tf\n",
    "physical_devices = tf.config.list_physical_devices('GPU') \n",
    "for device in physical_devices:\n",
    "    tf.config.experimental.set_memory_growth(device, True)"
   ]
  },
  {
   "cell_type": "code",
   "execution_count": 3,
   "id": "e3d27a73",
   "metadata": {
    "ExecuteTime": {
     "end_time": "2021-09-26T05:06:55.866476Z",
     "start_time": "2021-09-26T05:06:55.822082Z"
    }
   },
   "outputs": [],
   "source": [
    "from keras.optimizers import SGD \n",
    "\n",
    "\n",
    "from keras.layers import TimeDistributed\n",
    "from keras.models import Sequential\n",
    "from keras.layers.recurrent import LSTM\n",
    "from keras.layers.core import Dense, Activation, Dropout\n",
    "from keras.metrics import top_k_categorical_accuracy"
   ]
  },
  {
   "cell_type": "code",
   "execution_count": 4,
   "id": "482adf24",
   "metadata": {
    "ExecuteTime": {
     "end_time": "2021-09-26T05:06:56.478200Z",
     "start_time": "2021-09-26T05:06:56.475148Z"
    }
   },
   "outputs": [],
   "source": [
    "# multivariate one step problem\n",
    "from numpy import array, insert, hstack, delete\n",
    "from keras.preprocessing.sequence import TimeseriesGenerator"
   ]
  },
  {
   "cell_type": "code",
   "execution_count": 5,
   "id": "4651676e",
   "metadata": {
    "ExecuteTime": {
     "end_time": "2021-09-26T05:06:57.258702Z",
     "start_time": "2021-09-26T05:06:57.256207Z"
    }
   },
   "outputs": [],
   "source": [
    "import warnings\n",
    "warnings.filterwarnings('ignore')"
   ]
  },
  {
   "cell_type": "markdown",
   "id": "69deb237",
   "metadata": {},
   "source": [
    "## Data Prep"
   ]
  },
  {
   "cell_type": "code",
   "execution_count": 114,
   "id": "182317d0",
   "metadata": {
    "ExecuteTime": {
     "end_time": "2021-09-26T05:26:16.029833Z",
     "start_time": "2021-09-26T05:26:15.964088Z"
    }
   },
   "outputs": [],
   "source": [
    "from datetime import datetime\n",
    "# dateparse = lambda x, y: datetime.strptime(x+\" \"+y, '%m/%d/%Y %H:%M:%S')\n",
    "df = pd.read_csv(\"../data/historical.csv\")\n",
    "# , parse_dates={'datetime': ['Date', 'Time']}, date_parser=dateparse)"
   ]
  },
  {
   "cell_type": "code",
   "execution_count": 38,
   "id": "4ec99c6c",
   "metadata": {
    "ExecuteTime": {
     "end_time": "2021-09-26T05:12:05.490426Z",
     "start_time": "2021-09-26T05:12:05.474421Z"
    }
   },
   "outputs": [
    {
     "data": {
      "text/plain": [
       "10    23409\n",
       "24        3\n",
       "Name: Date, dtype: int64"
      ]
     },
     "execution_count": 38,
     "metadata": {},
     "output_type": "execute_result"
    }
   ],
   "source": [
    "date_lengths = df.Date.str.len()\n",
    "date_lengths.value_counts()"
   ]
  },
  {
   "cell_type": "code",
   "execution_count": 39,
   "id": "ebe8593f",
   "metadata": {
    "ExecuteTime": {
     "end_time": "2021-09-26T05:12:05.716898Z",
     "start_time": "2021-09-26T05:12:05.707454Z"
    }
   },
   "outputs": [
    {
     "data": {
      "text/html": [
       "<div>\n",
       "<style scoped>\n",
       "    .dataframe tbody tr th:only-of-type {\n",
       "        vertical-align: middle;\n",
       "    }\n",
       "\n",
       "    .dataframe tbody tr th {\n",
       "        vertical-align: top;\n",
       "    }\n",
       "\n",
       "    .dataframe thead th {\n",
       "        text-align: right;\n",
       "    }\n",
       "</style>\n",
       "<table border=\"1\" class=\"dataframe\">\n",
       "  <thead>\n",
       "    <tr style=\"text-align: right;\">\n",
       "      <th></th>\n",
       "      <th>Date</th>\n",
       "      <th>Time</th>\n",
       "    </tr>\n",
       "  </thead>\n",
       "  <tbody>\n",
       "    <tr>\n",
       "      <th>3378</th>\n",
       "      <td>1975-02-23T02:58:41.000Z</td>\n",
       "      <td>1975-02-23T02:58:41.000Z</td>\n",
       "    </tr>\n",
       "    <tr>\n",
       "      <th>7512</th>\n",
       "      <td>1985-04-28T02:53:41.530Z</td>\n",
       "      <td>1985-04-28T02:53:41.530Z</td>\n",
       "    </tr>\n",
       "    <tr>\n",
       "      <th>20650</th>\n",
       "      <td>2011-03-13T02:23:34.520Z</td>\n",
       "      <td>2011-03-13T02:23:34.520Z</td>\n",
       "    </tr>\n",
       "  </tbody>\n",
       "</table>\n",
       "</div>"
      ],
      "text/plain": [
       "                           Date                      Time\n",
       "3378   1975-02-23T02:58:41.000Z  1975-02-23T02:58:41.000Z\n",
       "7512   1985-04-28T02:53:41.530Z  1985-04-28T02:53:41.530Z\n",
       "20650  2011-03-13T02:23:34.520Z  2011-03-13T02:23:34.520Z"
      ]
     },
     "execution_count": 39,
     "metadata": {},
     "output_type": "execute_result"
    }
   ],
   "source": [
    "indices = np.where([date_lengths == 24])[1]\n",
    "df.iloc[indices][[\"Date\", \"Time\"]] # weird format"
   ]
  },
  {
   "cell_type": "code",
   "execution_count": 40,
   "id": "bebc4859",
   "metadata": {
    "ExecuteTime": {
     "end_time": "2021-09-26T05:12:05.907230Z",
     "start_time": "2021-09-26T05:12:05.898465Z"
    }
   },
   "outputs": [],
   "source": [
    "df.loc[3378, 'Date'] = \"02/23/1975\"\n",
    "df.loc[3378, 'Time'] = \"02:53:41\"\n",
    "\n",
    "df.loc[7512, 'Date'] = \"04/28/1985\"\n",
    "df.loc[7512, 'Time'] = \"02:53:41\"\n",
    "\n",
    "df.loc[20650, 'Date'] = \"03/13/2011\"\n",
    "df.loc[20650, 'Time'] = \"02:23:34\""
   ]
  },
  {
   "cell_type": "code",
   "execution_count": 41,
   "id": "ad3d2aba",
   "metadata": {
    "ExecuteTime": {
     "end_time": "2021-09-26T05:12:06.066897Z",
     "start_time": "2021-09-26T05:12:06.059161Z"
    }
   },
   "outputs": [],
   "source": [
    "df[\"time\"] = df[\"Date\"]+\"_\"+df[\"Time\"]"
   ]
  },
  {
   "cell_type": "code",
   "execution_count": 42,
   "id": "b4115022",
   "metadata": {
    "ExecuteTime": {
     "end_time": "2021-09-26T05:12:06.352884Z",
     "start_time": "2021-09-26T05:12:06.260515Z"
    }
   },
   "outputs": [],
   "source": [
    "df['time'] =  pd.to_datetime(df['time'], format='%m/%d/%Y_%H:%M:%S')"
   ]
  },
  {
   "cell_type": "code",
   "execution_count": 43,
   "id": "c3a5cb3a",
   "metadata": {
    "ExecuteTime": {
     "end_time": "2021-09-26T05:12:06.568842Z",
     "start_time": "2021-09-26T05:12:06.562460Z"
    }
   },
   "outputs": [],
   "source": [
    "df.sort_values(\"time\", inplace=True)\n",
    "df.set_axis(df['time'], inplace=True)"
   ]
  },
  {
   "cell_type": "code",
   "execution_count": 44,
   "id": "a5a2138d",
   "metadata": {
    "ExecuteTime": {
     "end_time": "2021-09-26T05:12:07.233684Z",
     "start_time": "2021-09-26T05:12:07.226455Z"
    }
   },
   "outputs": [],
   "source": [
    "# trim to magnitude\n",
    "MINIMUM_MAGNITUDE = 5\n",
    "df = df[df[\"Magnitude\"]>=MINIMUM_MAGNITUDE]"
   ]
  },
  {
   "cell_type": "code",
   "execution_count": 45,
   "id": "dd3cc767",
   "metadata": {
    "ExecuteTime": {
     "end_time": "2021-09-26T05:12:07.671149Z",
     "start_time": "2021-09-26T05:12:07.668481Z"
    }
   },
   "outputs": [],
   "source": [
    "time_range = df.time.to_numpy() # for plotting..."
   ]
  },
  {
   "cell_type": "code",
   "execution_count": 46,
   "id": "f5a48ec7",
   "metadata": {
    "ExecuteTime": {
     "end_time": "2021-09-26T05:12:08.540710Z",
     "start_time": "2021-09-26T05:12:08.520944Z"
    }
   },
   "outputs": [
    {
     "data": {
      "text/html": [
       "<div>\n",
       "<style scoped>\n",
       "    .dataframe tbody tr th:only-of-type {\n",
       "        vertical-align: middle;\n",
       "    }\n",
       "\n",
       "    .dataframe tbody tr th {\n",
       "        vertical-align: top;\n",
       "    }\n",
       "\n",
       "    .dataframe thead th {\n",
       "        text-align: right;\n",
       "    }\n",
       "</style>\n",
       "<table border=\"1\" class=\"dataframe\">\n",
       "  <thead>\n",
       "    <tr style=\"text-align: right;\">\n",
       "      <th></th>\n",
       "      <th>Date</th>\n",
       "      <th>Time</th>\n",
       "      <th>Latitude</th>\n",
       "      <th>Longitude</th>\n",
       "      <th>Type</th>\n",
       "      <th>Depth</th>\n",
       "      <th>Depth Error</th>\n",
       "      <th>Depth Seismic Stations</th>\n",
       "      <th>Magnitude</th>\n",
       "      <th>Magnitude Type</th>\n",
       "      <th>...</th>\n",
       "      <th>Azimuthal Gap</th>\n",
       "      <th>Horizontal Distance</th>\n",
       "      <th>Horizontal Error</th>\n",
       "      <th>Root Mean Square</th>\n",
       "      <th>ID</th>\n",
       "      <th>Source</th>\n",
       "      <th>Location Source</th>\n",
       "      <th>Magnitude Source</th>\n",
       "      <th>Status</th>\n",
       "      <th>time</th>\n",
       "    </tr>\n",
       "    <tr>\n",
       "      <th>time</th>\n",
       "      <th></th>\n",
       "      <th></th>\n",
       "      <th></th>\n",
       "      <th></th>\n",
       "      <th></th>\n",
       "      <th></th>\n",
       "      <th></th>\n",
       "      <th></th>\n",
       "      <th></th>\n",
       "      <th></th>\n",
       "      <th></th>\n",
       "      <th></th>\n",
       "      <th></th>\n",
       "      <th></th>\n",
       "      <th></th>\n",
       "      <th></th>\n",
       "      <th></th>\n",
       "      <th></th>\n",
       "      <th></th>\n",
       "      <th></th>\n",
       "      <th></th>\n",
       "    </tr>\n",
       "  </thead>\n",
       "  <tbody>\n",
       "    <tr>\n",
       "      <th>1965-01-02 13:44:18</th>\n",
       "      <td>01/02/1965</td>\n",
       "      <td>13:44:18</td>\n",
       "      <td>19.246</td>\n",
       "      <td>145.616</td>\n",
       "      <td>Earthquake</td>\n",
       "      <td>131.6</td>\n",
       "      <td>NaN</td>\n",
       "      <td>NaN</td>\n",
       "      <td>6.0</td>\n",
       "      <td>MW</td>\n",
       "      <td>...</td>\n",
       "      <td>NaN</td>\n",
       "      <td>NaN</td>\n",
       "      <td>NaN</td>\n",
       "      <td>NaN</td>\n",
       "      <td>ISCGEM860706</td>\n",
       "      <td>ISCGEM</td>\n",
       "      <td>ISCGEM</td>\n",
       "      <td>ISCGEM</td>\n",
       "      <td>Automatic</td>\n",
       "      <td>1965-01-02 13:44:18</td>\n",
       "    </tr>\n",
       "  </tbody>\n",
       "</table>\n",
       "<p>1 rows × 22 columns</p>\n",
       "</div>"
      ],
      "text/plain": [
       "                           Date      Time  Latitude  Longitude        Type  \\\n",
       "time                                                                         \n",
       "1965-01-02 13:44:18  01/02/1965  13:44:18    19.246    145.616  Earthquake   \n",
       "\n",
       "                     Depth  Depth Error  Depth Seismic Stations  Magnitude  \\\n",
       "time                                                                         \n",
       "1965-01-02 13:44:18  131.6          NaN                     NaN        6.0   \n",
       "\n",
       "                    Magnitude Type  ...  Azimuthal Gap  Horizontal Distance  \\\n",
       "time                                ...                                       \n",
       "1965-01-02 13:44:18             MW  ...            NaN                  NaN   \n",
       "\n",
       "                     Horizontal Error  Root Mean Square            ID  Source  \\\n",
       "time                                                                            \n",
       "1965-01-02 13:44:18               NaN               NaN  ISCGEM860706  ISCGEM   \n",
       "\n",
       "                    Location Source Magnitude Source     Status  \\\n",
       "time                                                              \n",
       "1965-01-02 13:44:18          ISCGEM           ISCGEM  Automatic   \n",
       "\n",
       "                                   time  \n",
       "time                                     \n",
       "1965-01-02 13:44:18 1965-01-02 13:44:18  \n",
       "\n",
       "[1 rows x 22 columns]"
      ]
     },
     "execution_count": 46,
     "metadata": {},
     "output_type": "execute_result"
    }
   ],
   "source": [
    "df.head(1)"
   ]
  },
  {
   "cell_type": "code",
   "execution_count": 47,
   "id": "a34f1abb",
   "metadata": {
    "ExecuteTime": {
     "end_time": "2021-09-26T05:12:13.427325Z",
     "start_time": "2021-09-26T05:12:13.411576Z"
    }
   },
   "outputs": [
    {
     "data": {
      "text/html": [
       "<div>\n",
       "<style scoped>\n",
       "    .dataframe tbody tr th:only-of-type {\n",
       "        vertical-align: middle;\n",
       "    }\n",
       "\n",
       "    .dataframe tbody tr th {\n",
       "        vertical-align: top;\n",
       "    }\n",
       "\n",
       "    .dataframe thead th {\n",
       "        text-align: right;\n",
       "    }\n",
       "</style>\n",
       "<table border=\"1\" class=\"dataframe\">\n",
       "  <thead>\n",
       "    <tr style=\"text-align: right;\">\n",
       "      <th></th>\n",
       "      <th>longitude</th>\n",
       "      <th>latitude</th>\n",
       "      <th>magnitude</th>\n",
       "    </tr>\n",
       "  </thead>\n",
       "  <tbody>\n",
       "    <tr>\n",
       "      <th>0</th>\n",
       "      <td>145.6160</td>\n",
       "      <td>19.2460</td>\n",
       "      <td>6.0</td>\n",
       "    </tr>\n",
       "    <tr>\n",
       "      <th>1</th>\n",
       "      <td>127.3520</td>\n",
       "      <td>1.8630</td>\n",
       "      <td>5.8</td>\n",
       "    </tr>\n",
       "    <tr>\n",
       "      <th>2</th>\n",
       "      <td>-173.9720</td>\n",
       "      <td>-20.5790</td>\n",
       "      <td>6.2</td>\n",
       "    </tr>\n",
       "    <tr>\n",
       "      <th>3</th>\n",
       "      <td>-23.5570</td>\n",
       "      <td>-59.0760</td>\n",
       "      <td>5.8</td>\n",
       "    </tr>\n",
       "    <tr>\n",
       "      <th>4</th>\n",
       "      <td>126.4270</td>\n",
       "      <td>11.9380</td>\n",
       "      <td>5.8</td>\n",
       "    </tr>\n",
       "    <tr>\n",
       "      <th>...</th>\n",
       "      <td>...</td>\n",
       "      <td>...</td>\n",
       "      <td>...</td>\n",
       "    </tr>\n",
       "    <tr>\n",
       "      <th>23407</th>\n",
       "      <td>-118.8941</td>\n",
       "      <td>38.3917</td>\n",
       "      <td>5.6</td>\n",
       "    </tr>\n",
       "    <tr>\n",
       "      <th>23408</th>\n",
       "      <td>-118.8957</td>\n",
       "      <td>38.3777</td>\n",
       "      <td>5.5</td>\n",
       "    </tr>\n",
       "    <tr>\n",
       "      <th>23409</th>\n",
       "      <td>140.4262</td>\n",
       "      <td>36.9179</td>\n",
       "      <td>5.9</td>\n",
       "    </tr>\n",
       "    <tr>\n",
       "      <th>23410</th>\n",
       "      <td>118.6639</td>\n",
       "      <td>-9.0283</td>\n",
       "      <td>6.3</td>\n",
       "    </tr>\n",
       "    <tr>\n",
       "      <th>23411</th>\n",
       "      <td>141.4103</td>\n",
       "      <td>37.3973</td>\n",
       "      <td>5.5</td>\n",
       "    </tr>\n",
       "  </tbody>\n",
       "</table>\n",
       "<p>23412 rows × 3 columns</p>\n",
       "</div>"
      ],
      "text/plain": [
       "       longitude  latitude  magnitude\n",
       "0       145.6160   19.2460        6.0\n",
       "1       127.3520    1.8630        5.8\n",
       "2      -173.9720  -20.5790        6.2\n",
       "3       -23.5570  -59.0760        5.8\n",
       "4       126.4270   11.9380        5.8\n",
       "...          ...       ...        ...\n",
       "23407  -118.8941   38.3917        5.6\n",
       "23408  -118.8957   38.3777        5.5\n",
       "23409   140.4262   36.9179        5.9\n",
       "23410   118.6639   -9.0283        6.3\n",
       "23411   141.4103   37.3973        5.5\n",
       "\n",
       "[23412 rows x 3 columns]"
      ]
     },
     "execution_count": 47,
     "metadata": {},
     "output_type": "execute_result"
    }
   ],
   "source": [
    "cols = [\"Longitude\", \"Latitude\", \"Magnitude\"]#, \"impact.significance\", \"location.depth\"]\n",
    "df = df[cols]\n",
    "df.rename(dict(zip(cols, [\"longitude\", \"latitude\", \"magnitude\"])), \n",
    "          axis=1, inplace=True)\n",
    "df.reset_index(drop=True, inplace=True)\n",
    "df"
   ]
  },
  {
   "cell_type": "code",
   "execution_count": 48,
   "id": "6d402962",
   "metadata": {
    "ExecuteTime": {
     "end_time": "2021-09-26T05:12:16.777966Z",
     "start_time": "2021-09-26T05:12:16.774998Z"
    }
   },
   "outputs": [],
   "source": [
    "import geohash as gh"
   ]
  },
  {
   "cell_type": "code",
   "execution_count": 51,
   "id": "cc3dfad4",
   "metadata": {
    "ExecuteTime": {
     "end_time": "2021-09-26T05:12:32.214910Z",
     "start_time": "2021-09-26T05:12:31.928332Z"
    }
   },
   "outputs": [
    {
     "data": {
      "text/html": [
       "<div>\n",
       "<style scoped>\n",
       "    .dataframe tbody tr th:only-of-type {\n",
       "        vertical-align: middle;\n",
       "    }\n",
       "\n",
       "    .dataframe tbody tr th {\n",
       "        vertical-align: top;\n",
       "    }\n",
       "\n",
       "    .dataframe thead th {\n",
       "        text-align: right;\n",
       "    }\n",
       "</style>\n",
       "<table border=\"1\" class=\"dataframe\">\n",
       "  <thead>\n",
       "    <tr style=\"text-align: right;\">\n",
       "      <th></th>\n",
       "      <th>longitude</th>\n",
       "      <th>latitude</th>\n",
       "      <th>magnitude</th>\n",
       "      <th>geohash</th>\n",
       "    </tr>\n",
       "  </thead>\n",
       "  <tbody>\n",
       "    <tr>\n",
       "      <th>0</th>\n",
       "      <td>145.6160</td>\n",
       "      <td>19.2460</td>\n",
       "      <td>6.0</td>\n",
       "      <td>x5</td>\n",
       "    </tr>\n",
       "    <tr>\n",
       "      <th>1</th>\n",
       "      <td>127.3520</td>\n",
       "      <td>1.8630</td>\n",
       "      <td>5.8</td>\n",
       "      <td>wb</td>\n",
       "    </tr>\n",
       "    <tr>\n",
       "      <th>2</th>\n",
       "      <td>-173.9720</td>\n",
       "      <td>-20.5790</td>\n",
       "      <td>6.2</td>\n",
       "      <td>2h</td>\n",
       "    </tr>\n",
       "    <tr>\n",
       "      <th>3</th>\n",
       "      <td>-23.5570</td>\n",
       "      <td>-59.0760</td>\n",
       "      <td>5.8</td>\n",
       "      <td>5m</td>\n",
       "    </tr>\n",
       "    <tr>\n",
       "      <th>4</th>\n",
       "      <td>126.4270</td>\n",
       "      <td>11.9380</td>\n",
       "      <td>5.8</td>\n",
       "      <td>wf</td>\n",
       "    </tr>\n",
       "    <tr>\n",
       "      <th>...</th>\n",
       "      <td>...</td>\n",
       "      <td>...</td>\n",
       "      <td>...</td>\n",
       "      <td>...</td>\n",
       "    </tr>\n",
       "    <tr>\n",
       "      <th>23407</th>\n",
       "      <td>-118.8941</td>\n",
       "      <td>38.3917</td>\n",
       "      <td>5.6</td>\n",
       "      <td>9q</td>\n",
       "    </tr>\n",
       "    <tr>\n",
       "      <th>23408</th>\n",
       "      <td>-118.8957</td>\n",
       "      <td>38.3777</td>\n",
       "      <td>5.5</td>\n",
       "      <td>9q</td>\n",
       "    </tr>\n",
       "    <tr>\n",
       "      <th>23409</th>\n",
       "      <td>140.4262</td>\n",
       "      <td>36.9179</td>\n",
       "      <td>5.9</td>\n",
       "      <td>xn</td>\n",
       "    </tr>\n",
       "    <tr>\n",
       "      <th>23410</th>\n",
       "      <td>118.6639</td>\n",
       "      <td>-9.0283</td>\n",
       "      <td>6.3</td>\n",
       "      <td>qw</td>\n",
       "    </tr>\n",
       "    <tr>\n",
       "      <th>23411</th>\n",
       "      <td>141.4103</td>\n",
       "      <td>37.3973</td>\n",
       "      <td>5.5</td>\n",
       "      <td>xn</td>\n",
       "    </tr>\n",
       "  </tbody>\n",
       "</table>\n",
       "<p>23412 rows × 4 columns</p>\n",
       "</div>"
      ],
      "text/plain": [
       "       longitude  latitude  magnitude geohash\n",
       "0       145.6160   19.2460        6.0      x5\n",
       "1       127.3520    1.8630        5.8      wb\n",
       "2      -173.9720  -20.5790        6.2      2h\n",
       "3       -23.5570  -59.0760        5.8      5m\n",
       "4       126.4270   11.9380        5.8      wf\n",
       "...          ...       ...        ...     ...\n",
       "23407  -118.8941   38.3917        5.6      9q\n",
       "23408  -118.8957   38.3777        5.5      9q\n",
       "23409   140.4262   36.9179        5.9      xn\n",
       "23410   118.6639   -9.0283        6.3      qw\n",
       "23411   141.4103   37.3973        5.5      xn\n",
       "\n",
       "[23412 rows x 4 columns]"
      ]
     },
     "execution_count": 51,
     "metadata": {},
     "output_type": "execute_result"
    }
   ],
   "source": [
    "df[\"geohash\"] = df.apply(lambda x: gh.encode(x[\"latitude\"], x[\"longitude\"], precision=2), axis = 1)\n",
    "df"
   ]
  },
  {
   "cell_type": "code",
   "execution_count": 52,
   "id": "b84afe61",
   "metadata": {
    "ExecuteTime": {
     "end_time": "2021-09-26T05:12:32.818360Z",
     "start_time": "2021-09-26T05:12:32.813653Z"
    }
   },
   "outputs": [],
   "source": [
    "# integer encode (DO NOT DO IF 1-hot encoding... ??)\n",
    "df[\"geohash_idx\"] =  pd.Categorical(df.geohash).codes"
   ]
  },
  {
   "cell_type": "code",
   "execution_count": 60,
   "id": "78a2ccb9",
   "metadata": {
    "ExecuteTime": {
     "end_time": "2021-09-26T05:14:48.668044Z",
     "start_time": "2021-09-26T05:14:48.658089Z"
    }
   },
   "outputs": [],
   "source": [
    "geohash_idx2hash = dict(zip(df.geohash_idx, df.geohash))"
   ]
  },
  {
   "cell_type": "code",
   "execution_count": 61,
   "id": "9f1fe7de",
   "metadata": {
    "ExecuteTime": {
     "end_time": "2021-09-26T05:14:54.449075Z",
     "start_time": "2021-09-26T05:14:54.444041Z"
    }
   },
   "outputs": [
    {
     "data": {
      "text/plain": [
       "424"
      ]
     },
     "execution_count": 61,
     "metadata": {},
     "output_type": "execute_result"
    }
   ],
   "source": [
    "CLASS_COUNT = df[\"geohash_idx\"].nunique() # is number of unique classes\n",
    "CLASS_COUNT"
   ]
  },
  {
   "cell_type": "code",
   "execution_count": 62,
   "id": "48c9493b",
   "metadata": {
    "ExecuteTime": {
     "end_time": "2021-09-26T05:14:56.097893Z",
     "start_time": "2021-09-26T05:14:56.091838Z"
    }
   },
   "outputs": [],
   "source": [
    "df.drop([\"latitude\", \"longitude\"], axis=1, inplace=True)\n",
    "df.reset_index(drop=True, inplace=True)"
   ]
  },
  {
   "cell_type": "code",
   "execution_count": 63,
   "id": "bebe6800",
   "metadata": {
    "ExecuteTime": {
     "end_time": "2021-09-26T05:15:01.268275Z",
     "start_time": "2021-09-26T05:15:01.255740Z"
    }
   },
   "outputs": [
    {
     "data": {
      "text/html": [
       "<div>\n",
       "<style scoped>\n",
       "    .dataframe tbody tr th:only-of-type {\n",
       "        vertical-align: middle;\n",
       "    }\n",
       "\n",
       "    .dataframe tbody tr th {\n",
       "        vertical-align: top;\n",
       "    }\n",
       "\n",
       "    .dataframe thead th {\n",
       "        text-align: right;\n",
       "    }\n",
       "</style>\n",
       "<table border=\"1\" class=\"dataframe\">\n",
       "  <thead>\n",
       "    <tr style=\"text-align: right;\">\n",
       "      <th></th>\n",
       "      <th>magnitude</th>\n",
       "      <th>geohash</th>\n",
       "      <th>geohash_idx</th>\n",
       "    </tr>\n",
       "  </thead>\n",
       "  <tbody>\n",
       "    <tr>\n",
       "      <th>0</th>\n",
       "      <td>6.0</td>\n",
       "      <td>x5</td>\n",
       "      <td>385</td>\n",
       "    </tr>\n",
       "    <tr>\n",
       "      <th>1</th>\n",
       "      <td>5.8</td>\n",
       "      <td>wb</td>\n",
       "      <td>358</td>\n",
       "    </tr>\n",
       "    <tr>\n",
       "      <th>2</th>\n",
       "      <td>6.2</td>\n",
       "      <td>2h</td>\n",
       "      <td>17</td>\n",
       "    </tr>\n",
       "  </tbody>\n",
       "</table>\n",
       "</div>"
      ],
      "text/plain": [
       "   magnitude geohash  geohash_idx\n",
       "0        6.0      x5          385\n",
       "1        5.8      wb          358\n",
       "2        6.2      2h           17"
      ]
     },
     "execution_count": 63,
     "metadata": {},
     "output_type": "execute_result"
    }
   ],
   "source": [
    "df.head(3)"
   ]
  },
  {
   "cell_type": "markdown",
   "id": "fb00378f",
   "metadata": {},
   "source": [
    "## Modeling"
   ]
  },
  {
   "cell_type": "code",
   "execution_count": 73,
   "id": "15f63d33",
   "metadata": {
    "ExecuteTime": {
     "end_time": "2021-09-26T05:16:01.649697Z",
     "start_time": "2021-09-26T05:16:01.645331Z"
    }
   },
   "outputs": [
    {
     "data": {
      "text/plain": [
       "23412"
      ]
     },
     "execution_count": 73,
     "metadata": {},
     "output_type": "execute_result"
    }
   ],
   "source": [
    "y = df[\"geohash_idx\"].to_numpy()\n",
    "y = y.reshape((-1, 1))\n",
    "len(y)"
   ]
  },
  {
   "cell_type": "code",
   "execution_count": 74,
   "id": "04cd8111",
   "metadata": {
    "ExecuteTime": {
     "end_time": "2021-09-26T05:16:02.556220Z",
     "start_time": "2021-09-26T05:16:02.551881Z"
    }
   },
   "outputs": [
    {
     "data": {
      "text/plain": [
       "array([385], dtype=int16)"
      ]
     },
     "execution_count": 74,
     "metadata": {},
     "output_type": "execute_result"
    }
   ],
   "source": [
    "y[0]"
   ]
  },
  {
   "cell_type": "code",
   "execution_count": 75,
   "id": "e5a83cb1",
   "metadata": {
    "ExecuteTime": {
     "end_time": "2021-09-26T05:16:02.716762Z",
     "start_time": "2021-09-26T05:16:02.714487Z"
    }
   },
   "outputs": [],
   "source": [
    "# for plotting... (x axis)\n",
    "# date_train = time_range[:split_idx]\n",
    "# date_test = time_range[split_idx:]\n",
    "# len(date_train), len(date_test)"
   ]
  },
  {
   "cell_type": "markdown",
   "id": "a947509e",
   "metadata": {},
   "source": [
    "Running the example prints the input and output portions of the samples with the output values for the next time step rather than the current time step as we may desire for this type of problem.\n",
    "\n",
    "https://machinelearningmastery.com/how-to-use-the-timeseriesgenerator-for-time-series-forecasting-in-keras/"
   ]
  },
  {
   "cell_type": "markdown",
   "id": "a7b84ebd",
   "metadata": {},
   "source": [
    "For a stateful LSTM, the batch size should be chosen in a way, so that the number of samples is divisible by the batch size. See also here:\n",
    "\n",
    "Keras: What if the size of data is not divisible by batch_size?\n",
    "\n",
    "In your case, considering that you take 20% from your training data as a validation set, you have 1136 samples remaining. So you should choose a batch size by which 1136 is divisible.\n",
    "\n",
    "Additionally, you could for example remove some samples or reuse samples to be able to choose various batch sizes."
   ]
  },
  {
   "cell_type": "code",
   "execution_count": 76,
   "id": "0a640393",
   "metadata": {
    "ExecuteTime": {
     "end_time": "2021-09-26T05:16:03.374048Z",
     "start_time": "2021-09-26T05:16:03.135385Z"
    }
   },
   "outputs": [
    {
     "name": "stdout",
     "output_type": "stream",
     "text": [
      "TT SPLIT: 0.7 | MEMORY: 1 | COMMON BATCH SIZES: {2341}\n",
      "TT SPLIT: 0.71 | MEMORY: 2 | COMMON BATCH SIZES: {4}\n",
      "TT SPLIT: 0.71 | MEMORY: 6 | COMMON BATCH SIZES: {8}\n",
      "TT SPLIT: 0.72 | MEMORY: 1 | COMMON BATCH SIZES: {5}\n",
      "TT SPLIT: 0.72 | MEMORY: 6 | COMMON BATCH SIZES: {25, 10, 50}\n",
      "TT SPLIT: 0.73 | MEMORY: 2 | COMMON BATCH SIZES: {8, 16, 4}\n",
      "TT SPLIT: 0.75 | MEMORY: 1 | COMMON BATCH SIZES: {2}\n",
      "TT SPLIT: 0.75 | MEMORY: 3 | COMMON BATCH SIZES: {6}\n",
      "TT SPLIT: 0.76 | MEMORY: 1 | COMMON BATCH SIZES: {2}\n",
      "TT SPLIT: 0.76 | MEMORY: 3 | COMMON BATCH SIZES: {6}\n",
      "TT SPLIT: 0.77 | MEMORY: 1 | COMMON BATCH SIZES: {2}\n",
      "TT SPLIT: 0.77 | MEMORY: 2 | COMMON BATCH SIZES: {7}\n",
      "TT SPLIT: 0.77 | MEMORY: 3 | COMMON BATCH SIZES: {6}\n",
      "TT SPLIT: 0.77 | MEMORY: 9 | COMMON BATCH SIZES: {42, 21, 14}\n",
      "TT SPLIT: 0.78 | MEMORY: 1 | COMMON BATCH SIZES: {2, 10, 5}\n",
      "TT SPLIT: 0.78 | MEMORY: 2 | COMMON BATCH SIZES: {19}\n",
      "TT SPLIT: 0.78 | MEMORY: 3 | COMMON BATCH SIZES: {6}\n",
      "TT SPLIT: 0.78 | MEMORY: 6 | COMMON BATCH SIZES: {15}\n",
      "TT SPLIT: 0.79 | MEMORY: 1 | COMMON BATCH SIZES: {2}\n",
      "TT SPLIT: 0.79 | MEMORY: 3 | COMMON BATCH SIZES: {6}\n",
      "TT SPLIT: 0.8 | MEMORY: 1 | COMMON BATCH SIZES: {2, 2341, 4682}\n",
      "TT SPLIT: 0.8 | MEMORY: 3 | COMMON BATCH SIZES: {6}\n",
      "TT SPLIT: 0.81 | MEMORY: 1 | COMMON BATCH SIZES: {2}\n",
      "TT SPLIT: 0.81 | MEMORY: 3 | COMMON BATCH SIZES: {6}\n",
      "TT SPLIT: 0.82 | MEMORY: 1 | COMMON BATCH SIZES: {2}\n",
      "TT SPLIT: 0.82 | MEMORY: 2 | COMMON BATCH SIZES: {11}\n",
      "TT SPLIT: 0.82 | MEMORY: 3 | COMMON BATCH SIZES: {6}\n",
      "TT SPLIT: 0.83 | MEMORY: 1 | COMMON BATCH SIZES: {2, 10, 5}\n",
      "TT SPLIT: 0.83 | MEMORY: 3 | COMMON BATCH SIZES: {6}\n",
      "TT SPLIT: 0.83 | MEMORY: 6 | COMMON BATCH SIZES: {25, 75, 15}\n",
      "TT SPLIT: 0.84 | MEMORY: 1 | COMMON BATCH SIZES: {5}\n",
      "TT SPLIT: 0.84 | MEMORY: 2 | COMMON BATCH SIZES: {8, 16, 4}\n",
      "TT SPLIT: 0.84 | MEMORY: 6 | COMMON BATCH SIZES: {10, 20}\n",
      "TT SPLIT: 0.86 | MEMORY: 2 | COMMON BATCH SIZES: {4, 28, 14, 7}\n",
      "TT SPLIT: 0.86 | MEMORY: 6 | COMMON BATCH SIZES: {8}\n",
      "TT SPLIT: 0.88 | MEMORY: 2 | COMMON BATCH SIZES: {8, 4}\n",
      "TT SPLIT: 0.89 | MEMORY: 1 | COMMON BATCH SIZES: {5}\n",
      "TT SPLIT: 0.89 | MEMORY: 2 | COMMON BATCH SIZES: {11, 22}\n",
      "TT SPLIT: 0.89 | MEMORY: 3 | COMMON BATCH SIZES: {83}\n",
      "TT SPLIT: 0.89 | MEMORY: 6 | COMMON BATCH SIZES: {10}\n"
     ]
    }
   ],
   "source": [
    "# need to choose batch size so that n/batch_size remainder is memory (timesteps/events looking back)\n",
    "# want larger batch size for model performance so wrote wrapper func to help find\n",
    "\n",
    "\n",
    "# train/test split\n",
    "for train_proportion in list(range(70, 90, 1)):\n",
    "    train_proportion /= 100\n",
    "    split_idx = int(train_proportion*len(y))\n",
    "    geo_train = y[:split_idx]\n",
    "    geo_test = y[split_idx:]\n",
    "\n",
    "\n",
    "    for MEMORY in list(range(1, 10)):\n",
    "        def print_factors(data_ct, MEMORY):\n",
    "            return {batch_size for batch_size in range(1, data_ct+1) \n",
    "                        if data_ct % batch_size == MEMORY}\n",
    "\n",
    "        train_batch_sizes = print_factors(len(geo_train), MEMORY)\n",
    "        test_batch_sizes = print_factors(len(geo_test), MEMORY)\n",
    "\n",
    "\n",
    "        common_sizes = train_batch_sizes.intersection(test_batch_sizes)\n",
    "        if len(common_sizes)>=1:\n",
    "            print(f\"TT SPLIT: {train_proportion} | MEMORY: {MEMORY} | COMMON BATCH SIZES: {common_sizes}\")"
   ]
  },
  {
   "cell_type": "code",
   "execution_count": 96,
   "id": "3c43d2a7",
   "metadata": {
    "ExecuteTime": {
     "end_time": "2021-09-26T05:19:54.899299Z",
     "start_time": "2021-09-26T05:19:54.896413Z"
    }
   },
   "outputs": [],
   "source": [
    "train_proportion = .77\n",
    "split_idx = int(train_proportion*len(y))\n",
    "geo_train = y[:split_idx]\n",
    "geo_test = y[split_idx:]"
   ]
  },
  {
   "cell_type": "code",
   "execution_count": 97,
   "id": "96cac370",
   "metadata": {
    "ExecuteTime": {
     "end_time": "2021-09-26T05:19:55.201534Z",
     "start_time": "2021-09-26T05:19:55.198851Z"
    }
   },
   "outputs": [],
   "source": [
    "MEMORY = 9\n",
    "BATCH_SIZE = 42\n",
    "\n",
    "train_generator = TimeseriesGenerator(geo_train, geo_train, length=MEMORY, batch_size=BATCH_SIZE)"
   ]
  },
  {
   "cell_type": "code",
   "execution_count": 99,
   "id": "d0fbb05b",
   "metadata": {
    "ExecuteTime": {
     "end_time": "2021-09-26T05:20:02.614660Z",
     "start_time": "2021-09-26T05:20:02.611641Z"
    }
   },
   "outputs": [],
   "source": [
    "DROPOUT = .6\n",
    "EPOCHS = 10\n",
    "ACTIVATION = \"tanh\"\n",
    "ALPHA = 1e-06\n",
    "UNITS = 64\n",
    "\n",
    "feature_ct = geo_train.shape[1]"
   ]
  },
  {
   "cell_type": "markdown",
   "id": "38bced7e",
   "metadata": {},
   "source": [
    "I do not use validation sets for time series forecasting, I don’t see a straightforward way to implement it.\n",
    "\n"
   ]
  },
  {
   "cell_type": "code",
   "execution_count": 100,
   "id": "c190dffd",
   "metadata": {
    "ExecuteTime": {
     "end_time": "2021-09-26T05:20:03.387735Z",
     "start_time": "2021-09-26T05:20:03.208766Z"
    }
   },
   "outputs": [
    {
     "name": "stdout",
     "output_type": "stream",
     "text": [
      "WARNING:tensorflow:Layer input_lstm will not use cuDNN kernel since it doesn't meet the cuDNN kernel criteria. It will use generic GPU kernel as fallback when running on GPU\n",
      "WARNING:tensorflow:Layer lstm_4 will not use cuDNN kernel since it doesn't meet the cuDNN kernel criteria. It will use generic GPU kernel as fallback when running on GPU\n",
      "Model: \"sequential_4\"\n",
      "_________________________________________________________________\n",
      "Layer (type)                 Output Shape              Param #   \n",
      "=================================================================\n",
      "input_lstm (LSTM)            (42, 9, 64)               16896     \n",
      "_________________________________________________________________\n",
      "lstm_4 (LSTM)                (42, 64)                  33024     \n",
      "_________________________________________________________________\n",
      "dropout_4 (Dropout)          (42, 64)                  0         \n",
      "_________________________________________________________________\n",
      "dense_4 (Dense)              (42, 424)                 27560     \n",
      "=================================================================\n",
      "Total params: 77,480\n",
      "Trainable params: 77,480\n",
      "Non-trainable params: 0\n",
      "_________________________________________________________________\n"
     ]
    }
   ],
   "source": [
    "model = Sequential()\n",
    "\n",
    "# did not 1-hot encode since using  sparse loss\n",
    "batchsize__input_dim = (BATCH_SIZE, MEMORY, feature_ct) \n",
    "model.add(LSTM(UNITS, \n",
    "               activation=ACTIVATION, \n",
    "               batch_input_shape=batchsize__input_dim, \n",
    "               return_sequences=True, \n",
    "               stateful=True, \n",
    "               name=\"input_lstm\",\n",
    "               recurrent_dropout=DROPOUT\n",
    "              )) \n",
    "\n",
    "model.add(LSTM(UNITS, \n",
    "               activation=ACTIVATION,\n",
    "               recurrent_dropout=DROPOUT,\n",
    "               return_sequences=False,\n",
    "              ))\n",
    "\n",
    "model.add(Dropout(DROPOUT))\n",
    "\n",
    "model.add(Dense(CLASS_COUNT, activation=\"softmax\"))\n",
    "\n",
    "def top_k_metric(y_true, y_pred):\n",
    "    return top_k_categorical_accuracy(y_true, y_pred, k=10) \n",
    "\n",
    "\n",
    "\n",
    "from keras import optimizers\n",
    "optimizer = optimizers.Adam(learning_rate=ALPHA)\n",
    "model.compile(loss=\"sparse_categorical_crossentropy\", optimizer=optimizer, \n",
    "              sample_weight_mode=\"temporal\",\n",
    "              metrics=[top_k_metric, \"sparse_categorical_accuracy\"])\n",
    "model.summary()"
   ]
  },
  {
   "cell_type": "code",
   "execution_count": 101,
   "id": "d363e0e1",
   "metadata": {
    "ExecuteTime": {
     "end_time": "2021-09-26T05:21:43.040603Z",
     "start_time": "2021-09-26T05:20:03.530141Z"
    },
    "scrolled": true
   },
   "outputs": [
    {
     "name": "stdout",
     "output_type": "stream",
     "text": [
      "\n",
      "429/429 [==============================] - 11s 23ms/step - loss: 6.0583 - top_k_metric: 0.0127 - sparse_categorical_accuracy: 0.0032\n",
      "\n",
      "429/429 [==============================] - 10s 23ms/step - loss: 6.0521 - top_k_metric: 0.0144 - sparse_categorical_accuracy: 0.0037\n",
      "\n",
      "429/429 [==============================] - 9s 22ms/step - loss: 6.0486 - top_k_metric: 0.0131 - sparse_categorical_accuracy: 0.0034\n",
      "\n",
      "429/429 [==============================] - 10s 23ms/step - loss: 6.0420 - top_k_metric: 0.0133 - sparse_categorical_accuracy: 0.0039\n",
      "\n",
      "429/429 [==============================] - 10s 22ms/step - loss: 6.0375 - top_k_metric: 0.0136 - sparse_categorical_accuracy: 0.0040\n",
      "\n",
      "429/429 [==============================] - 10s 23ms/step - loss: 6.0324 - top_k_metric: 0.0114 - sparse_categorical_accuracy: 0.0041\n",
      "\n",
      "429/429 [==============================] - 10s 23ms/step - loss: 6.0284 - top_k_metric: 0.0114 - sparse_categorical_accuracy: 0.0049\n",
      "\n",
      "429/429 [==============================] - 10s 23ms/step - loss: 6.0223 - top_k_metric: 0.0111 - sparse_categorical_accuracy: 0.0053\n",
      "\n",
      "429/429 [==============================] - 10s 23ms/step - loss: 6.0170 - top_k_metric: 0.0109 - sparse_categorical_accuracy: 0.0063\n",
      "\n",
      "429/429 [==============================] - 10s 23ms/step - loss: 6.0121 - top_k_metric: 0.0099 - sparse_categorical_accuracy: 0.0051\n"
     ]
    }
   ],
   "source": [
    "for i in range(EPOCHS):\n",
    "    print()\n",
    "    \n",
    "    model.fit_generator(train_generator, epochs=1, shuffle=False)\n",
    "    model.reset_states()"
   ]
  },
  {
   "cell_type": "markdown",
   "id": "13d00ce7",
   "metadata": {},
   "source": [
    "One big difference between regular regression models and time series models is how we run predictions. The first one should be pretty obvious, we take the last 12 months of train data and predict it to get the first test data.\n",
    "How do we predict the next one?\n",
    "This is a big issue esp. if you take a shortcut and use the test data’s first value and use that as your last prediction. That way you are feeding the correct values for the prior steps helping the model to create better results that it would otherwise give.\n",
    "What needs to happen is that the “first prediction” needs to be added to the last 11 training data to create a new set of 12 data points to predict the next one. This way we are not cheating at all, the test data is really test data and is never seen by the model.\n",
    "\n",
    "this post wasn't worth saving tho..."
   ]
  },
  {
   "cell_type": "code",
   "execution_count": 105,
   "id": "32db139a",
   "metadata": {
    "ExecuteTime": {
     "end_time": "2021-09-26T05:23:41.333790Z",
     "start_time": "2021-09-26T05:23:40.426758Z"
    }
   },
   "outputs": [
    {
     "name": "stdout",
     "output_type": "stream",
     "text": [
      "128/128 [==============================] - 1s 6ms/step\n"
     ]
    },
    {
     "data": {
      "text/plain": [
       "(5376, 424)"
      ]
     },
     "execution_count": 105,
     "metadata": {},
     "output_type": "execute_result"
    }
   ],
   "source": [
    "# trimming slightly to fit batch size\n",
    "test_generator = TimeseriesGenerator(geo_test, geo_test, length=MEMORY, batch_size=BATCH_SIZE)\n",
    "prediction = model.predict_generator(test_generator, verbose=1)\n",
    "prediction.shape"
   ]
  },
  {
   "cell_type": "code",
   "execution_count": 106,
   "id": "9358a0cf",
   "metadata": {
    "ExecuteTime": {
     "end_time": "2021-09-26T05:23:42.149501Z",
     "start_time": "2021-09-26T05:23:42.141790Z"
    }
   },
   "outputs": [
    {
     "data": {
      "text/plain": [
       "{14, 17, 143, 257, 374}"
      ]
     },
     "execution_count": 106,
     "metadata": {},
     "output_type": "execute_result"
    }
   ],
   "source": [
    "max_index_col = np.argmax(prediction, axis=1)\n",
    "set(max_index_col) # the different indices that were max (output neurons that lit up the most)"
   ]
  },
  {
   "cell_type": "code",
   "execution_count": 109,
   "id": "dfc5b672",
   "metadata": {
    "ExecuteTime": {
     "end_time": "2021-09-26T05:24:21.552263Z",
     "start_time": "2021-09-26T05:24:21.528429Z"
    }
   },
   "outputs": [
    {
     "data": {
      "text/html": [
       "<div>\n",
       "<style scoped>\n",
       "    .dataframe tbody tr th:only-of-type {\n",
       "        vertical-align: middle;\n",
       "    }\n",
       "\n",
       "    .dataframe tbody tr th {\n",
       "        vertical-align: top;\n",
       "    }\n",
       "\n",
       "    .dataframe thead th {\n",
       "        text-align: right;\n",
       "    }\n",
       "</style>\n",
       "<table border=\"1\" class=\"dataframe\">\n",
       "  <thead>\n",
       "    <tr style=\"text-align: right;\">\n",
       "      <th></th>\n",
       "      <th>latitude</th>\n",
       "      <th>longitude</th>\n",
       "    </tr>\n",
       "  </thead>\n",
       "  <tbody>\n",
       "    <tr>\n",
       "      <th>0</th>\n",
       "      <td>25.3125</td>\n",
       "      <td>129.375</td>\n",
       "    </tr>\n",
       "    <tr>\n",
       "      <th>14</th>\n",
       "      <td>-14.0625</td>\n",
       "      <td>118.125</td>\n",
       "    </tr>\n",
       "    <tr>\n",
       "      <th>26</th>\n",
       "      <td>30.9375</td>\n",
       "      <td>-61.875</td>\n",
       "    </tr>\n",
       "    <tr>\n",
       "      <th>225</th>\n",
       "      <td>-19.6875</td>\n",
       "      <td>-174.375</td>\n",
       "    </tr>\n",
       "    <tr>\n",
       "      <th>1801</th>\n",
       "      <td>-30.9375</td>\n",
       "      <td>-174.375</td>\n",
       "    </tr>\n",
       "  </tbody>\n",
       "</table>\n",
       "</div>"
      ],
      "text/plain": [
       "      latitude  longitude\n",
       "0      25.3125    129.375\n",
       "14    -14.0625    118.125\n",
       "26     30.9375    -61.875\n",
       "225   -19.6875   -174.375\n",
       "1801  -30.9375   -174.375"
      ]
     },
     "execution_count": 109,
     "metadata": {},
     "output_type": "execute_result"
    }
   ],
   "source": [
    "lat__long = [gh.decode(geohash_idx2hash[e]) for e in max_index_col] # make sure right way around!\n",
    "# make sure proper order\n",
    "# make sure unpacks index per model lines up. MOVE ON IGNORE DEETS!\n",
    "prediction_df = pd.DataFrame(lat__long, columns=[\"latitude\", \"longitude\"])\n",
    "prediction_df.drop_duplicates(inplace=True)\n",
    "prediction_df.reset_index(drop=True)\n",
    "prediction_df"
   ]
  },
  {
   "cell_type": "code",
   "execution_count": 120,
   "id": "70e86a62",
   "metadata": {
    "ExecuteTime": {
     "end_time": "2021-09-26T05:27:13.227153Z",
     "start_time": "2021-09-26T05:27:13.059771Z"
    }
   },
   "outputs": [
    {
     "data": {
      "image/png": "[encoded data removed]",
      "text/plain": [
       "<Figure size 432x288 with 1 Axes>"
      ]
     },
     "metadata": {
      "needs_background": "light"
     },
     "output_type": "display_data"
    }
   ],
   "source": [
    "import matplotlib.pyplot as plt\n",
    "plt.scatter(x=prediction_df['longitude'], y=prediction_df['latitude'], color=\"red\")\n",
    "\n",
    "huh = df[[\"Latitude\", \"Longitude\"]].drop_duplicates()\n",
    "plt.scatter(x=huh['Longitude'], y=huh['Latitude'], color=\"green\", alpha=.01)\n",
    "plt.show()"
   ]
  },
  {
   "cell_type": "markdown",
   "id": "44cfe642",
   "metadata": {},
   "source": [
    "Assuming that the algorithms have a hard time to interpret GPS coordinates, the system\n",
    "could instead use encoded positions. This approach would take a latitude and longitude position and with a defined precision hash it and save it in a dictionary. This precision would\n",
    "be the amount of decimals for the latitude and longitude to use. This would discretize the\n",
    "operating area into a grid where the interval depends on the chosen precision.\n",
    "The drawback of this approach is with higher precision and operating area, the exponentially more locations have to hashed and stored. A small area of radius ten kilometre and\n",
    "4 decimal precision could yield well over 300000 locations and therefore outcomes. Another\n",
    "drawback is that the algorithm can only use positions it have trained on.\n",
    "\n",
    "\n",
    "need to 1-hjot encode since no ordinal relation exists"
   ]
  }
 ],
 "metadata": {
  "kernelspec": {
   "display_name": "Python [conda env:quake_back_end]",
   "language": "python",
   "name": "conda-env-quake_back_end-py"
  },
  "language_info": {
   "codemirror_mode": {
    "name": "ipython",
    "version": 3
   },
   "file_extension": ".py",
   "mimetype": "text/x-python",
   "name": "python",
   "nbconvert_exporter": "python",
   "pygments_lexer": "ipython3",
   "version": "3.9.6"
  },
  "latex_envs": {
   "LaTeX_envs_menu_present": true,
   "autoclose": false,
   "autocomplete": true,
   "bibliofile": "biblio.bib",
   "cite_by": "apalike",
   "current_citInitial": 1,
   "eqLabelWithNumbers": true,
   "eqNumInitial": 1,
   "hotkeys": {
    "equation": "Ctrl-E",
    "itemize": "Ctrl-I"
   },
   "labels_anchors": false,
   "latex_user_defs": false,
   "report_style_numbering": false,
   "user_envs_cfg": false
  },
  "toc": {
   "base_numbering": 1,
   "nav_menu": {},
   "number_sections": true,
   "sideBar": true,
   "skip_h1_title": false,
   "title_cell": "Table of Contents",
   "title_sidebar": "Contents",
   "toc_cell": false,
   "toc_position": {},
   "toc_section_display": true,
   "toc_window_display": false
  }
 },
 "nbformat": 4,
 "nbformat_minor": 5
}
