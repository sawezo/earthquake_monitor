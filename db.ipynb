{
 "cells": [
  {
   "cell_type": "markdown",
   "id": "1f8c762c",
   "metadata": {},
   "source": [
    "## Postgres"
   ]
  },
  {
   "cell_type": "code",
   "execution_count": 9,
   "id": "2f674f14",
   "metadata": {
    "ExecuteTime": {
     "end_time": "2021-10-10T16:11:40.918423Z",
     "start_time": "2021-10-10T16:11:40.889866Z"
    }
   },
   "outputs": [],
   "source": [
    "import psycopg2"
   ]
  },
  {
   "cell_type": "code",
   "execution_count": null,
   "id": "07fe9c46",
   "metadata": {
    "ExecuteTime": {
     "end_time": "2021-10-17T20:29:42.419183Z",
     "start_time": "2021-10-17T20:29:42.397782Z"
    }
   },
   "outputs": [],
   "source": [
    "df= pd.DataFrame({\"a\":[4, 6], \"b\":[2, 5], \"c\":[45, 7]})\n",
    "\n",
    "for "
   ]
  },
  {
   "cell_type": "code",
   "execution_count": 22,
   "id": "4be55723",
   "metadata": {
    "ExecuteTime": {
     "end_time": "2021-10-17T20:30:57.855489Z",
     "start_time": "2021-10-17T20:30:57.840718Z"
    }
   },
   "outputs": [
    {
     "name": "stdout",
     "output_type": "stream",
     "text": [
      "{'a': 4, 'b': 2, 'c': 45}\n",
      "{'a': 6, 'b': 5, 'c': 7}\n"
     ]
    }
   ],
   "source": [
    "for row in df.to_dict(orient=\"records\"):\n",
    "    print(row)"
   ]
  },
  {
   "cell_type": "code",
   "execution_count": 12,
   "id": "e9aaf9e6",
   "metadata": {
    "ExecuteTime": {
     "end_time": "2021-10-10T16:11:55.574875Z",
     "start_time": "2021-10-10T16:11:55.553344Z"
    }
   },
   "outputs": [
    {
     "ename": "KeyError",
     "evalue": "'POSTGRES_PASSWORD'",
     "output_type": "error",
     "traceback": [
      "\u001b[0;31m---------------------------------------------------------------------------\u001b[0m",
      "\u001b[0;31mKeyError\u001b[0m                                  Traceback (most recent call last)",
      "\u001b[0;32m<ipython-input-12-28e7b5f035cd>\u001b[0m in \u001b[0;36m<module>\u001b[0;34m\u001b[0m\n\u001b[0;32m----> 1\u001b[0;31m \u001b[0mpassword\u001b[0m \u001b[0;34m=\u001b[0m \u001b[0mos\u001b[0m\u001b[0;34m.\u001b[0m\u001b[0menviron\u001b[0m\u001b[0;34m[\u001b[0m\u001b[0;34m'POSTGRES_PASSWORD'\u001b[0m\u001b[0;34m]\u001b[0m\u001b[0;34m\u001b[0m\u001b[0;34m\u001b[0m\u001b[0m\n\u001b[0m\u001b[1;32m      2\u001b[0m \u001b[0mpassword\u001b[0m\u001b[0;34m\u001b[0m\u001b[0;34m\u001b[0m\u001b[0m\n",
      "\u001b[0;32m~/anaconda3/lib/python3.7/os.py\u001b[0m in \u001b[0;36m__getitem__\u001b[0;34m(self, key)\u001b[0m\n\u001b[1;32m    677\u001b[0m         \u001b[0;32mexcept\u001b[0m \u001b[0mKeyError\u001b[0m\u001b[0;34m:\u001b[0m\u001b[0;34m\u001b[0m\u001b[0;34m\u001b[0m\u001b[0m\n\u001b[1;32m    678\u001b[0m             \u001b[0;31m# raise KeyError with the original key value\u001b[0m\u001b[0;34m\u001b[0m\u001b[0;34m\u001b[0m\u001b[0;34m\u001b[0m\u001b[0m\n\u001b[0;32m--> 679\u001b[0;31m             \u001b[0;32mraise\u001b[0m \u001b[0mKeyError\u001b[0m\u001b[0;34m(\u001b[0m\u001b[0mkey\u001b[0m\u001b[0;34m)\u001b[0m \u001b[0;32mfrom\u001b[0m \u001b[0;32mNone\u001b[0m\u001b[0;34m\u001b[0m\u001b[0;34m\u001b[0m\u001b[0m\n\u001b[0m\u001b[1;32m    680\u001b[0m         \u001b[0;32mreturn\u001b[0m \u001b[0mself\u001b[0m\u001b[0;34m.\u001b[0m\u001b[0mdecodevalue\u001b[0m\u001b[0;34m(\u001b[0m\u001b[0mvalue\u001b[0m\u001b[0;34m)\u001b[0m\u001b[0;34m\u001b[0m\u001b[0;34m\u001b[0m\u001b[0m\n\u001b[1;32m    681\u001b[0m \u001b[0;34m\u001b[0m\u001b[0m\n",
      "\u001b[0;31mKeyError\u001b[0m: 'POSTGRES_PASSWORD'"
     ]
    }
   ],
   "source": [
    "POSTGRES_USER = os.environ['POSTGRES_USER']\n",
    "POSTGRES_PASSWORD = os.environ['POSTGRES_PASSWORD']"
   ]
  },
  {
   "cell_type": "code",
   "execution_count": null,
   "id": "d8ee64d3",
   "metadata": {},
   "outputs": [],
   "source": [
    "# CHANGE TO CREDENTIALS FRM OS (db name and user too!)\n",
    "conn = psycopg2.connect(f\"dbname=quake_sink user={POSTGRES_USER} password={POSTGRES_PASSWORD} host=postgres_db\")"
   ]
  },
  {
   "cell_type": "code",
   "execution_count": null,
   "id": "7e5acc6c",
   "metadata": {},
   "outputs": [],
   "source": [
    "cur = conn.cursor()"
   ]
  },
  {
   "cell_type": "code",
   "execution_count": null,
   "id": "9b4be41a",
   "metadata": {},
   "outputs": [],
   "source": [
    "# test\n",
    "cur.execute(\"CREATE TABLE test (id serial PRIMARY KEY, num integer, data varchar);\")"
   ]
  },
  {
   "cell_type": "code",
   "execution_count": null,
   "id": "e88bc0fc",
   "metadata": {},
   "outputs": [],
   "source": [
    "# insert into test\n",
    "cur.execute(\"INSERT INTO test (num, data) VALUES (%s, %s)\", (100, \"abc'def\"))"
   ]
  },
  {
   "cell_type": "code",
   "execution_count": null,
   "id": "e6df76fb",
   "metadata": {},
   "outputs": [],
   "source": [
    "# test\n",
    "cur.execute(\"SELECT * FROM test;\")\n",
    "cur.fetchone()"
   ]
  },
  {
   "cell_type": "code",
   "execution_count": null,
   "id": "ac41062d",
   "metadata": {},
   "outputs": [],
   "source": [
    "# persist changes\n",
    "conn.commit()"
   ]
  },
  {
   "cell_type": "code",
   "execution_count": null,
   "id": "6ba7a96a",
   "metadata": {},
   "outputs": [],
   "source": [
    "# close communication\n",
    "cur.close()\n",
    "conn.close()"
   ]
  }
 ],
 "metadata": {
  "kernelspec": {
   "display_name": "Python 3",
   "language": "python",
   "name": "python3"
  },
  "language_info": {
   "codemirror_mode": {
    "name": "ipython",
    "version": 3
   },
   "file_extension": ".py",
   "mimetype": "text/x-python",
   "name": "python",
   "nbconvert_exporter": "python",
   "pygments_lexer": "ipython3",
   "version": "3.7.6"
  },
  "latex_envs": {
   "LaTeX_envs_menu_present": true,
   "autoclose": false,
   "autocomplete": true,
   "bibliofile": "biblio.bib",
   "cite_by": "apalike",
   "current_citInitial": 1,
   "eqLabelWithNumbers": true,
   "eqNumInitial": 1,
   "hotkeys": {
    "equation": "Ctrl-E",
    "itemize": "Ctrl-I"
   },
   "labels_anchors": false,
   "latex_user_defs": false,
   "report_style_numbering": false,
   "user_envs_cfg": false
  },
  "toc": {
   "base_numbering": 1,
   "nav_menu": {},
   "number_sections": true,
   "sideBar": true,
   "skip_h1_title": false,
   "title_cell": "Table of Contents",
   "title_sidebar": "Contents",
   "toc_cell": false,
   "toc_position": {},
   "toc_section_display": true,
   "toc_window_display": false
  }
 },
 "nbformat": 4,
 "nbformat_minor": 5
}
